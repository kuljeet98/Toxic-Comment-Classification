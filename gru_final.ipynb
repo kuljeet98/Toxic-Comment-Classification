{
 "cells": [
  {
   "cell_type": "markdown",
   "metadata": {},
   "source": [
    "### Toxic Comment Classification"
   ]
  },
  {
   "cell_type": "markdown",
   "metadata": {},
   "source": [
    "### Using Bidirectional GRU (LB=0.96630)"
   ]
  },
  {
   "cell_type": "markdown",
   "metadata": {},
   "source": [
    "Biredirectional GRU has been used:\n",
    "1) Bidirectional is used beacuse in case sentence needs to have more weightage on the successor word than previous words.<br>\n",
    "2) GRU's are faster to train as LSTM's."
   ]
  },
  {
   "cell_type": "code",
   "execution_count": 1,
   "metadata": {
    "colab": {},
    "colab_type": "code",
    "id": "yeDIkrylcXSI"
   },
   "outputs": [
    {
     "name": "stderr",
     "output_type": "stream",
     "text": [
      "Using TensorFlow backend.\n"
     ]
    }
   ],
   "source": [
    "#importing librarie\n",
    "%matplotlib inline\n",
    "import pandas as pd\n",
    "import numpy as np\n",
    "#warnings\n",
    "import warnings\n",
    "warnings.filterwarnings('ignore')\n",
    "#visulaisation\n",
    "import  seaborn as sns\n",
    "import matplotlib.pyplot as plt\n",
    "#nlp\n",
    "import nltk\n",
    "from nltk.corpus import stopwords\n",
    "from tqdm import tqdm\n",
    "#keras\n",
    "from keras.preprocessing.text import Tokenizer\n",
    "from keras.preprocessing.sequence import pad_sequences\n",
    "from keras.layers import RNN, GRU, LSTM, Dense, Input, Embedding, Dropout, Activation, concatenate\n",
    "from keras.layers import Bidirectional, GlobalAveragePooling1D, GlobalMaxPooling1D\n",
    "from keras.models import Model\n",
    "from keras.callbacks import EarlyStopping, ModelCheckpoint\n",
    "from keras import initializers, regularizers, constraints, optimizers, layers"
   ]
  },
  {
   "cell_type": "code",
   "execution_count": 2,
   "metadata": {
    "colab": {},
    "colab_type": "code",
    "id": "5-sxNMkDc2dj"
   },
   "outputs": [],
   "source": [
    "'''importing the dataframes'''\n",
    "X_train = pd.read_pickle('X_train.pkl')\n",
    "X_test = pd.read_pickle('X_test.pkl')\n",
    "y_train = pd.read_pickle('y_train.pkl')"
   ]
  },
  {
   "cell_type": "code",
   "execution_count": 3,
   "metadata": {
    "colab": {
     "base_uri": "https://localhost:8080/",
     "height": 68
    },
    "colab_type": "code",
    "id": "TRXoBU9vc8Iv",
    "outputId": "bbd14195-ca43-46f9-aaf9-13fcbbb9a5df"
   },
   "outputs": [
    {
     "name": "stdout",
     "output_type": "stream",
     "text": [
      "X_train shape: (159571, 2)\n",
      "X_test shape: (153164, 2)\n",
      "Train Labels shape: (159571, 6)\n"
     ]
    }
   ],
   "source": [
    "print(\"X_train shape:\",X_train.shape)\n",
    "print(\"X_test shape:\",X_test.shape)\n",
    "print(\"Train Labels shape:\",y_train.shape)"
   ]
  },
  {
   "cell_type": "code",
   "execution_count": 4,
   "metadata": {
    "colab": {
     "base_uri": "https://localhost:8080/",
     "height": 68
    },
    "colab_type": "code",
    "id": "cmolsA_Gc-Cr",
    "outputId": "553569d3-20dd-4ad4-cba6-d04f636ba675"
   },
   "outputs": [
    {
     "name": "stdout",
     "output_type": "stream",
     "text": [
      "X_train columns ['id', 'comments']\n",
      "X_test columns ['id', 'comments']\n",
      "y_train columns ['toxic', 'severe_toxic', 'obscene', 'threat', 'insult', 'identity_hate']\n"
     ]
    }
   ],
   "source": [
    "print(\"X_train columns\",list(X_train.columns))\n",
    "print(\"X_test columns\",list(X_test.columns))\n",
    "print(\"y_train columns\",list(y_train.columns))"
   ]
  },
  {
   "cell_type": "code",
   "execution_count": 3,
   "metadata": {
    "colab": {},
    "colab_type": "code",
    "id": "gOVCA_qldAMD"
   },
   "outputs": [],
   "source": [
    "train = X_train[\"comments\"].str.lower() #lowering the text\n",
    "test = X_test[\"comments\"].str.lower()"
   ]
  },
  {
   "cell_type": "code",
   "execution_count": 4,
   "metadata": {
    "colab": {},
    "colab_type": "code",
    "id": "qE_2kYkQdRZm"
   },
   "outputs": [],
   "source": [
    "'''seeting the parameters'''\n",
    "max_features = 159571\n",
    "max_len = 150     #max length of our vectors\n",
    "embed_size = 50  #embed size used in the embedding layers"
   ]
  },
  {
   "cell_type": "code",
   "execution_count": null,
   "metadata": {
    "colab": {},
    "colab_type": "code",
    "id": "CBqTOchUdYTl"
   },
   "outputs": [],
   "source": [
    "'''tokenize the data and assign numerical values to it.'''\n",
    "tokenizer = Tokenizer(max_features)\n",
    "tokenizer.fit_on_texts(list(train))"
   ]
  },
  {
   "cell_type": "code",
   "execution_count": null,
   "metadata": {
    "colab": {},
    "colab_type": "code",
    "id": "qYaICCHWdmiv"
   },
   "outputs": [],
   "source": [
    "tokenized_train_sentences = tokenizer.texts_to_sequences(train) #train is tokenised\n",
    "tokenized_test_sentences = tokenizer.texts_to_sequences(test)"
   ]
  },
  {
   "cell_type": "code",
   "execution_count": 9,
   "metadata": {
    "colab": {
     "base_uri": "https://localhost:8080/",
     "height": 34
    },
    "colab_type": "code",
    "id": "jC0y-tZTdrML",
    "outputId": "6cb22e2d-582c-472a-d26a-1aebeba6905b"
   },
   "outputs": [
    {
     "data": {
      "text/plain": [
       "[449, 13749, 142, 945, 459, 2233, 1, 3730, 818, 66, 7, 864, 124]"
      ]
     },
     "execution_count": 9,
     "metadata": {
      "tags": []
     },
     "output_type": "execute_result"
    }
   ],
   "source": [
    "'''output of the train[1] tokenised data'''\n",
    "tokenized_train_sentences[1]"
   ]
  },
  {
   "cell_type": "code",
   "execution_count": 10,
   "metadata": {
    "colab": {
     "base_uri": "https://localhost:8080/",
     "height": 34
    },
    "colab_type": "code",
    "id": "T8NEuUAjdvkZ",
    "outputId": "1be53d6f-05ad-49f6-b5d7-dad2a13d8fb6"
   },
   "outputs": [
    {
     "data": {
      "text/plain": [
       "'d aww he match background colour i seemingly stick thanks talk january utc'"
      ]
     },
     "execution_count": 10,
     "metadata": {
      "tags": []
     },
     "output_type": "execute_result"
    }
   ],
   "source": [
    "train[1]"
   ]
  },
  {
   "cell_type": "code",
   "execution_count": null,
   "metadata": {
    "colab": {},
    "colab_type": "code",
    "id": "T8QxDBCWdw8t"
   },
   "outputs": [],
   "source": [
    "'''padding is done to ensure the text are of same length to be fed into rnns'''\n",
    "train = pad_sequences(tokenized_train_sentences, max_len) \n",
    "test = pad_sequences(tokenized_test_sentences, max_len)"
   ]
  },
  {
   "cell_type": "markdown",
   "metadata": {},
   "source": [
    "### TFIDF-weighted W2Vec"
   ]
  },
  {
   "cell_type": "code",
   "execution_count": null,
   "metadata": {},
   "outputs": [],
   "source": [
    "from sklearn.feature_extraction.text import TfidfVectorizer\n",
    "tf = TfidfVectorizer(ngram_range=(1,2),min_df=3, max_df=0.9,use_idf=1,\n",
    "               smooth_idf=1, sublinear_tf=1)"
   ]
  },
  {
   "cell_type": "code",
   "execution_count": null,
   "metadata": {},
   "outputs": [],
   "source": [
    "train = tf.fit_transform(X_train['comments'])"
   ]
  },
  {
   "cell_type": "code",
   "execution_count": 18,
   "metadata": {
    "colab": {
     "base_uri": "https://localhost:8080/",
     "height": 34
    },
    "colab_type": "code",
    "id": "mquCZqiVqAz5",
    "outputId": "152f8b95-b4be-4076-cb05-2bbb372cd84f"
   },
   "outputs": [
    {
     "data": {
      "text/plain": [
       "159571"
      ]
     },
     "execution_count": 18,
     "metadata": {
      "tags": []
     },
     "output_type": "execute_result"
    }
   ],
   "source": [
    "list_of_sent = []\n",
    "for sentence in X_train['comments']:\n",
    "    try:\n",
    "        list_of_sent.append(sentence.split())\n",
    "    except:\n",
    "        print(sentence)\n",
    "len(list_of_sent)"
   ]
  },
  {
   "cell_type": "code",
   "execution_count": null,
   "metadata": {},
   "outputs": [],
   "source": [
    "'''buiding our own corpus on the dataset of dim=50'''\n",
    "from gensim.models import Word2Vec\n",
    "w2v_model=Word2Vec(list_of_sent,min_count=5,size=50, workers=4)\n",
    "w2v_words = list(w2v_model.wv.vocab)"
   ]
  },
  {
   "cell_type": "code",
   "execution_count": null,
   "metadata": {},
   "outputs": [],
   "source": [
    "'''below function computes the tfidf weighted word2vec for the whole dataset'''\n",
    "def gen_tfidf_w2v(model,list_of_sent,w2v_model,dictionary):\n",
    "    tfidf_feat = model.get_feature_names() # tfidf words/col-names\n",
    "    # final_tf_idf is the sparse matrix with row= sentence, col=word and cell_val = tfidf\n",
    "\n",
    "    tfidf_sent_vectors = []; # the tfidf-w2v for each sentence/review is stored in this list\n",
    "    row=0;\n",
    "    for sent in tqdm(list_of_sent): # for each review/sentence \n",
    "        sent_vec = np.zeros(50) # as word vectors are of zero length\n",
    "        weight_sum =0; # num of words with a valid vector in the sentence/review\n",
    "        for word in sent: # for each word in a review/sentence\n",
    "            if word in w2v_words:\n",
    "                try:\n",
    "                    vec = w2v_model.wv[word]\n",
    "        #           tf_idf = tf_idf_matrix[row, tfidf_feat.index(word)]\n",
    "                    # to reduce the computation we are \n",
    "                    # dictionary[word] = idf value of word in whole courpus\n",
    "                    # sent.count(word) = tf valeus of word in this review\n",
    "                    tf_idf = dictionary[word]*(sent.count(word)/len(sent))\n",
    "                    sent_vec += (vec * tf_idf)\n",
    "                    weight_sum += tf_idf\n",
    "                except:\n",
    "                    pass\n",
    "        if weight_sum != 0:\n",
    "            sent_vec /= weight_sum\n",
    "        tfidf_sent_vectors.append(sent_vec)\n",
    "        row += 1\n",
    "    return tfidf_sent_vectors"
   ]
  },
  {
   "cell_type": "code",
   "execution_count": null,
   "metadata": {},
   "outputs": [],
   "source": [
    "dictionary = dict(zip(tf.get_feature_names(), list(tf.idf_)))"
   ]
  },
  {
   "cell_type": "code",
   "execution_count": 22,
   "metadata": {
    "colab": {
     "base_uri": "https://localhost:8080/",
     "height": 34
    },
    "colab_type": "code",
    "id": "YY4kzal6qL4c",
    "outputId": "4a618673-5f34-4949-c81b-bf66562e394c"
   },
   "outputs": [
    {
     "name": "stderr",
     "output_type": "stream",
     "text": [
      "100%|██████████| 159571/159571 [14:28<00:00, 183.80it/s]\n"
     ]
    }
   ],
   "source": [
    "emb = gen_tfidf_w2v(tf,list_of_sent,w2v_model,dictionary) "
   ]
  },
  {
   "cell_type": "code",
   "execution_count": null,
   "metadata": {},
   "outputs": [],
   "source": [
    "#list to array conversion\n",
    "emb = np.array(emb)"
   ]
  },
  {
   "cell_type": "markdown",
   "metadata": {},
   "source": [
    "### GRU architecture"
   ]
  },
  {
   "cell_type": "code",
   "execution_count": null,
   "metadata": {
    "colab": {},
    "colab_type": "code",
    "id": "YlaJnDrYd6Zu"
   },
   "outputs": [],
   "source": [
    "'''Bidirectional GRU architecture'''\n",
    "image_input = Input(shape=(max_len, ))\n",
    "x = Embedding(max_features, embed_size,weights=[emb])(image_input) #tfidf weighted w2vec has been used as weights\n",
    "x = Bidirectional(LSTM(50, return_sequences=True, dropout=0.3, recurrent_dropout=0.2))(x)\n",
    "x = GlobalMaxPooling1D()(x)\n",
    "x = Dense(30, activation=\"relu\",kernel_initializer='he_normal')(x)\n",
    "x = Dropout(0.2)(x)\n",
    "x = Dense(6, activation=\"sigmoid\")(x)  #sigmoid has been used to have probability values sum>1.eg.0.99+0.92....\n",
    "model = Model(inputs=image_input, outputs=x)"
   ]
  },
  {
   "cell_type": "code",
   "execution_count": null,
   "metadata": {
    "colab": {},
    "colab_type": "code",
    "id": "wQa_2pUTfAS-"
   },
   "outputs": [],
   "source": [
    "from keras.optimizers import Adam\n",
    "model.compile(loss='binary_crossentropy', optimizer=Adam(0.01), metrics=['accuracy'])"
   ]
  },
  {
   "cell_type": "code",
   "execution_count": null,
   "metadata": {
    "colab": {},
    "colab_type": "code",
    "id": "UMxUGNdUzRoj"
   },
   "outputs": [],
   "source": [
    "'''callbacks are used to tune the learning rate and save the best weights'''\n",
    "from keras.callbacks import ModelCheckpoint, ReduceLROnPlateau,EarlyStopping\n",
    "filepath=\"gru.h5\"\n",
    "checkpoint = ModelCheckpoint(filepath, monitor='val_loss',save_best_only=True, verbose=1)\n",
    "reduce_on_plateau = ReduceLROnPlateau(monitor=\"val_loss\", mode=\"min\", factor=0.1, patience=4, verbose=1)\n",
    "early_stopping = EarlyStopping( monitor='val_loss',patience=8,verbose=1,restore_best_weights=True)\n",
    "callbacks_list = [checkpoint, reduce_on_plateau, early_stopping]"
   ]
  },
  {
   "cell_type": "code",
   "execution_count": null,
   "metadata": {},
   "outputs": [],
   "source": [
    "classes = [\"toxic\", \"severe_toxic\", \"obscene\", \"threat\", \"insult\", \"identity_hate\"]\n",
    "y = y_train[classes].values"
   ]
  },
  {
   "cell_type": "code",
   "execution_count": 41,
   "metadata": {
    "colab": {
     "base_uri": "https://localhost:8080/",
     "height": 836
    },
    "colab_type": "code",
    "id": "-LO3xziJf8cz",
    "outputId": "ed8ad80e-fc67-4501-d10f-70d4a9c6dbaf"
   },
   "outputs": [
    {
     "name": "stdout",
     "output_type": "stream",
     "text": [
      "Train on 127656 samples, validate on 31915 samples\n",
      "Epoch 1/15\n",
      "127656/127656 [==============================] - 219s 2ms/step - loss: 0.0922 - accuracy: 0.9712 - val_loss: 0.0535 - val_accuracy: 0.9806\n",
      "\n",
      "Epoch 00001: val_loss improved from inf to 0.05355, saving model to /content/drive/My Drive/Models/gru.h5\n",
      "Epoch 2/15\n",
      "127656/127656 [==============================] - 218s 2ms/step - loss: 0.0507 - accuracy: 0.9814 - val_loss: 0.0492 - val_accuracy: 0.9822\n",
      "\n",
      "Epoch 00002: val_loss improved from 0.05355 to 0.04921, saving model to /content/drive/My Drive/Models/gru.h5\n",
      "Epoch 3/15\n",
      "127656/127656 [==============================] - 214s 2ms/step - loss: 0.0436 - accuracy: 0.9834 - val_loss: 0.0494 - val_accuracy: 0.9820\n",
      "\n",
      "Epoch 00003: val_loss did not improve from 0.04921\n",
      "Epoch 4/15\n",
      "127656/127656 [==============================] - 215s 2ms/step - loss: 0.0395 - accuracy: 0.9846 - val_loss: 0.0504 - val_accuracy: 0.9808\n",
      "\n",
      "Epoch 00004: val_loss did not improve from 0.04921\n",
      "Epoch 5/15\n",
      "127656/127656 [==============================] - 213s 2ms/step - loss: 0.0363 - accuracy: 0.9857 - val_loss: 0.0517 - val_accuracy: 0.9815\n",
      "\n",
      "Epoch 00005: val_loss did not improve from 0.04921\n",
      "Epoch 6/15\n",
      "127656/127656 [==============================] - 216s 2ms/step - loss: 0.0337 - accuracy: 0.9865 - val_loss: 0.0557 - val_accuracy: 0.9818\n",
      "\n",
      "Epoch 00006: val_loss did not improve from 0.04921\n",
      "\n",
      "Epoch 00006: ReduceLROnPlateau reducing learning rate to 0.0009999999776482583.\n",
      "Epoch 7/15\n",
      "127656/127656 [==============================] - 214s 2ms/step - loss: 0.0304 - accuracy: 0.9878 - val_loss: 0.0578 - val_accuracy: 0.9811\n",
      "\n",
      "Epoch 00007: val_loss did not improve from 0.04921\n",
      "Epoch 8/15\n",
      "127656/127656 [==============================] - 212s 2ms/step - loss: 0.0297 - accuracy: 0.9880 - val_loss: 0.0581 - val_accuracy: 0.9809\n",
      "\n",
      "Epoch 00008: val_loss did not improve from 0.04921\n",
      "Epoch 9/15\n",
      "127656/127656 [==============================] - 212s 2ms/step - loss: 0.0290 - accuracy: 0.9882 - val_loss: 0.0592 - val_accuracy: 0.9812\n",
      "\n",
      "Epoch 00009: val_loss did not improve from 0.04921\n",
      "Epoch 10/15\n",
      "127656/127656 [==============================] - 210s 2ms/step - loss: 0.0285 - accuracy: 0.9885 - val_loss: 0.0592 - val_accuracy: 0.9813\n",
      "\n",
      "Epoch 00010: val_loss did not improve from 0.04921\n",
      "\n",
      "Epoch 00010: ReduceLROnPlateau reducing learning rate to 9.999999310821295e-05.\n",
      "Restoring model weights from the end of the best epoch\n",
      "Epoch 00010: early stopping\n"
     ]
    }
   ],
   "source": [
    "'''model training stoped on the 10th epoch because the val loss was not improving after changing the learning rate  '''\n",
    "history= model.fit(train, y, batch_size=512, epochs=15, validation_split=0.2,\n",
    "          callbacks=callbacks_list,verbose=1,use_multiprocessing=True)"
   ]
  },
  {
   "cell_type": "code",
   "execution_count": 42,
   "metadata": {
    "colab": {
     "base_uri": "https://localhost:8080/",
     "height": 354
    },
    "colab_type": "code",
    "id": "k2U-w2621C_K",
    "outputId": "6345cd84-6f3e-418c-9830-35bd927389ad"
   },
   "outputs": [
    {
     "data": {
      "image/png": "[encoded data removed]",
      "text/plain": [
       "<Figure size 1080x360 with 2 Axes>"
      ]
     },
     "metadata": {
      "needs_background": "light",
      "tags": []
     },
     "output_type": "display_data"
    }
   ],
   "source": [
    "# plotting the accuracy vs loss with the number of Epochs\n",
    "xlabel = 'Epoch'\n",
    "legends = ['Training', 'Validation']\n",
    "\n",
    "ylim_pad = [0.01, 0.1]\n",
    "\n",
    "plt.figure(figsize=(15, 5))\n",
    "\n",
    "# Plot training & validation Accuracy values\n",
    "\n",
    "y1 = history.history['accuracy']\n",
    "y2 = history.history['val_accuracy']\n",
    "\n",
    "min_y = min(min(y1), min(y2))-ylim_pad[0]\n",
    "max_y = max(max(y1), max(y2))+ylim_pad[0]\n",
    "\n",
    "\n",
    "plt.subplot(121)\n",
    "\n",
    "plt.plot(y1)\n",
    "plt.plot(y2)\n",
    "\n",
    "plt.title('Model Accuracy', fontsize=17)\n",
    "plt.xlabel(xlabel, fontsize=15)\n",
    "plt.ylabel('Accuracy', fontsize=15)\n",
    "plt.ylim(min_y, max_y)\n",
    "plt.legend(legends, loc='upper left')\n",
    "plt.grid()\n",
    "\n",
    "                         \n",
    "# Plot training & validation loss values\n",
    "    \n",
    "y1 = history.history['loss']\n",
    "y2 = history.history['val_loss']\n",
    "\n",
    "min_y = min(min(y1), min(y2))-ylim_pad[1]\n",
    "max_y = max(max(y1), max(y2))+ylim_pad[1]\n",
    "    \n",
    "    \n",
    "plt.subplot(122)\n",
    "\n",
    "plt.plot(y1)\n",
    "plt.plot(y2)\n",
    "\n",
    "plt.title('Model Loss', fontsize=17)\n",
    "plt.xlabel(xlabel, fontsize=15)\n",
    "plt.ylabel('Loss', fontsize=15)\n",
    "plt.ylim(min_y, max_y)\n",
    "plt.legend(legends, loc='upper left')\n",
    "plt.grid()\n",
    "                         \n",
    "plt.show()"
   ]
  },
  {
   "cell_type": "code",
   "execution_count": 10,
   "metadata": {
    "colab": {},
    "colab_type": "code",
    "id": "CZbL4sUL1H04"
   },
   "outputs": [],
   "source": [
    "# load weights\n",
    "model.load_weights('gru.h5')"
   ]
  },
  {
   "cell_type": "code",
   "execution_count": 44,
   "metadata": {
    "colab": {
     "base_uri": "https://localhost:8080/",
     "height": 34
    },
    "colab_type": "code",
    "id": "wAbHno-GgXw6",
    "outputId": "3edc63e1-947b-4d43-90fb-65f13fa95987"
   },
   "outputs": [
    {
     "name": "stdout",
     "output_type": "stream",
     "text": [
      "153164/153164 [==============================] - 18s 117us/step\n"
     ]
    }
   ],
   "source": [
    "test_values = model.predict([test], batch_size=512, verbose=1)"
   ]
  },
  {
   "cell_type": "code",
   "execution_count": 45,
   "metadata": {
    "colab": {
     "base_uri": "https://localhost:8080/",
     "height": 238
    },
    "colab_type": "code",
    "id": "_LeyEe3niOnz",
    "outputId": "5b5e9f31-c214-4940-866d-c678ec8a31a7"
   },
   "outputs": [
    {
     "data": {
      "text/plain": [
       "array([[9.98926342e-01, 3.99175525e-01, 9.52660263e-01, 5.36454469e-02,\n",
       "        8.50376964e-01, 1.33892789e-01],\n",
       "       [2.11148965e-03, 4.10062484e-07, 1.22926940e-04, 5.78091067e-06,\n",
       "        1.03589540e-04, 1.94857803e-05],\n",
       "       [8.21999181e-03, 1.83710586e-06, 4.17403091e-04, 2.37292588e-05,\n",
       "        4.74881643e-04, 6.61713057e-05],\n",
       "       ...,\n",
       "       [1.20011915e-04, 1.70126775e-08, 7.83933592e-06, 1.95624025e-07,\n",
       "        3.50104460e-06, 8.37679863e-07],\n",
       "       [1.75215222e-03, 1.57472812e-07, 6.31249131e-05, 2.23155689e-06,\n",
       "        6.29910573e-05, 1.01557789e-05],\n",
       "       [7.83040822e-01, 8.42854567e-03, 4.81861472e-01, 6.55162754e-03,\n",
       "        2.88468689e-01, 1.86139122e-02]], dtype=float32)"
      ]
     },
     "execution_count": 45,
     "metadata": {
      "tags": []
     },
     "output_type": "execute_result"
    }
   ],
   "source": [
    "test_values"
   ]
  },
  {
   "cell_type": "code",
   "execution_count": 7,
   "metadata": {
    "colab": {
     "base_uri": "https://localhost:8080/",
     "height": 419
    },
    "colab_type": "code",
    "id": "NvQSeWk0jOq3",
    "outputId": "101ececd-ea5e-4219-9c44-a00f62d99263"
   },
   "outputs": [],
   "source": [
    "pred_cols=['toxic','severe_toxic','obscene','threat','insult','identity_hate']\n",
    "pred_df = pd.DataFrame(test_values,columns=pred_cols)"
   ]
  },
  {
   "cell_type": "code",
   "execution_count": null,
   "metadata": {
    "colab": {},
    "colab_type": "code",
    "id": "KdIottXWjf69"
   },
   "outputs": [],
   "source": [
    "idd =X_test['id']\n",
    "sub = pd.concat([idd,pred_df],axis=1)\n",
    "sub.to_csv('gru_sub.csv',index=False)"
   ]
  },
  {
   "cell_type": "code",
   "execution_count": null,
   "metadata": {},
   "outputs": [],
   "source": []
  }
 ],
 "metadata": {
  "accelerator": "GPU",
  "colab": {
   "name": "gru_final.ipynb",
   "provenance": []
  },
  "kernelspec": {
   "display_name": "Python 3",
   "language": "python",
   "name": "python3"
  },
  "language_info": {
   "codemirror_mode": {
    "name": "ipython",
    "version": 3
   },
   "file_extension": ".py",
   "mimetype": "text/x-python",
   "name": "python",
   "nbconvert_exporter": "python",
   "pygments_lexer": "ipython3",
   "version": "3.6.9"
  }
 },
 "nbformat": 4,
 "nbformat_minor": 4
}
