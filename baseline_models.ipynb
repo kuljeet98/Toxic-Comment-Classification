{
 "cells": [
  {
   "cell_type": "markdown",
   "metadata": {
    "colab_type": "text",
    "id": "o9Qj8RRxgLPw"
   },
   "source": [
    "### Toxic Comment Classification"
   ]
  },
  {
   "cell_type": "code",
   "execution_count": 1,
   "metadata": {
    "colab": {},
    "colab_type": "code",
    "id": "ixoea--bvmyW"
   },
   "outputs": [],
   "source": [
    "#importing librarie\n",
    "%matplotlib inline\n",
    "import pandas as pd\n",
    "import numpy as np\n",
    "#warnings\n",
    "import warnings\n",
    "warnings.filterwarnings('ignore') #to ingnore the warnings in jupyter notebooks....\n",
    "#visulaisation\n",
    "import  seaborn as sns\n",
    "import matplotlib.pyplot as plt\n",
    "from wordcloud import WordCloud\n",
    "#nlp\n",
    "import nltk\n",
    "from nltk.corpus import stopwords\n",
    "import re  \n",
    "from nltk.stem.wordnet import WordNetLemmatizer \n",
    "from nltk.tokenize import word_tokenize\n",
    "#pickle & joblib&tqdm\n",
    "import pickle\n",
    "import joblib\n",
    "from tqdm import tqdm\n",
    "#sklearn\n",
    "from sklearn.naive_bayes import MultinomialNB\n",
    "from sklearn.model_selection import GridSearchCV\n",
    "from sklearn.multiclass import OneVsRestClassifier\n",
    "from sklearn import metrics\n",
    "from sklearn.metrics import f1_score,precision_score,recall_score\n",
    "from sklearn.linear_model import LogisticRegression\n",
    "from skmultilearn.adapt import MLkNN"
   ]
  },
  {
   "cell_type": "markdown",
   "metadata": {
    "colab_type": "text",
    "id": "nTUtV7Zxuz8H"
   },
   "source": [
    "### Feature Engineering"
   ]
  },
  {
   "cell_type": "code",
   "execution_count": 2,
   "metadata": {
    "colab": {},
    "colab_type": "code",
    "id": "yklIZr_Kvf1l"
   },
   "outputs": [],
   "source": [
    "'''reading the saved dataframes saved in previous file'''\n",
    "X_train = pd.read_pickle('X_train.pkl')\n",
    "X_test = pd.read_pickle('X_test.pkl')\n",
    "y_train = pd.read_pickle('y_train.pkl')"
   ]
  },
  {
   "cell_type": "code",
   "execution_count": 3,
   "metadata": {
    "colab": {
     "base_uri": "https://localhost:8080/",
     "height": 68
    },
    "colab_type": "code",
    "id": "i8sLimxZgLTc",
    "outputId": "cec56191-799c-498a-a89d-85a6b1ab0083"
   },
   "outputs": [
    {
     "name": "stdout",
     "output_type": "stream",
     "text": [
      "X_train shape: (159571, 2)\n",
      "X_test shape: (153164, 2)\n",
      "Train Labels shape: (159571, 6)\n"
     ]
    }
   ],
   "source": [
    "print(\"X_train shape:\",X_train.shape)\n",
    "print(\"X_test shape:\",X_test.shape)\n",
    "print(\"Train Labels shape:\",y_train.shape)"
   ]
  },
  {
   "cell_type": "code",
   "execution_count": 4,
   "metadata": {
    "colab": {
     "base_uri": "https://localhost:8080/",
     "height": 68
    },
    "colab_type": "code",
    "id": "x9uYPHrCwOIp",
    "outputId": "5b96c5c2-003e-400d-87c8-c628b9434f5e"
   },
   "outputs": [
    {
     "name": "stdout",
     "output_type": "stream",
     "text": [
      "X_train columns ['id', 'comments']\n",
      "X_test columns ['id', 'comments']\n",
      "y_train columns ['toxic', 'severe_toxic', 'obscene', 'threat', 'insult', 'identity_hate']\n"
     ]
    }
   ],
   "source": [
    "print(\"X_train columns\",list(X_train.columns))\n",
    "print(\"X_test columns\",list(X_test.columns))\n",
    "print(\"y_train columns\",list(y_train.columns))"
   ]
  },
  {
   "cell_type": "markdown",
   "metadata": {
    "colab_type": "text",
    "id": "GrLslZRigLTg"
   },
   "source": [
    "TFIDF vectorizer"
   ]
  },
  {
   "cell_type": "code",
   "execution_count": 5,
   "metadata": {
    "colab": {},
    "colab_type": "code",
    "id": "OkfkdLIhgLTh"
   },
   "outputs": [],
   "source": [
    "'''tfidf vectoriser has been used as it is far better than bag of words approach.'''\n",
    "#https://scikit-learn.org/stable/modules/generated/sklearn.feature_extraction.text.TfidfVectorizer.html\n",
    "from sklearn.feature_extraction.text import TfidfVectorizer\n",
    "tf = TfidfVectorizer(ngram_range=(1,2),min_df=3, max_df=0.9,use_idf=1, #ngram_range(1,2), it will take text in 1 as well in pairs\n",
    "               smooth_idf=1, sublinear_tf=1 )"
   ]
  },
  {
   "cell_type": "code",
   "execution_count": 6,
   "metadata": {
    "colab": {},
    "colab_type": "code",
    "id": "ObktbB2-gLTl"
   },
   "outputs": [],
   "source": [
    "train = tf.fit_transform(X_train['comments'])"
   ]
  },
  {
   "cell_type": "code",
   "execution_count": 7,
   "metadata": {
    "colab": {
     "base_uri": "https://localhost:8080/",
     "height": 170
    },
    "colab_type": "code",
    "id": "5tqvUpv5gLTo",
    "outputId": "df42bb61-36ed-4669-f3ae-ac4c53eaf5de"
   },
   "outputs": [
    {
     "name": "stdout",
     "output_type": "stream",
     "text": [
      "Comments Dimensions: (159571, 327390)\n",
      "Non-Zeros: (array([0, 0, 0, 0, 0, 0, 0, 0, 0, 0, 0, 0, 0, 0, 0, 0, 0, 0, 0, 0, 0, 0,\n",
      "       0, 0, 0, 0, 0, 0, 0, 0, 0, 0, 0, 0, 0, 0, 0, 0, 0, 0, 0, 0, 0, 0,\n",
      "       0, 0], dtype=int32), array([253971, 199520, 274353, 276197, 232043, 186113, 208633,  13623,\n",
      "       181098, 306059, 186825, 282782, 236474, 169593, 117979, 162351,\n",
      "        81328, 313779,  93679, 235825, 253501, 198206, 273803, 276036,\n",
      "       231472, 208374,  13204,  94429,  77936, 325466, 180611, 305977,\n",
      "       107771,  51574, 303155, 183544, 282620, 236116,  96668, 169592,\n",
      "       117975, 301326, 161036,  80683, 313712,  93579], dtype=int32))\n"
     ]
    }
   ],
   "source": [
    "print(\"Comments Dimensions:\",train.shape)\n",
    "print(\"Non-Zeros:\",train[0].nonzero())"
   ]
  },
  {
   "cell_type": "code",
   "execution_count": 8,
   "metadata": {
    "colab": {
     "base_uri": "https://localhost:8080/",
     "height": 187
    },
    "colab_type": "code",
    "id": "ZYC_3bBcgLTs",
    "outputId": "371c09c1-f35f-49e5-c95d-9ca83cd97bd6"
   },
   "outputs": [
    {
     "name": "stdout",
     "output_type": "stream",
     "text": [
      "Comments Dimensions: (153164, 327390)\n",
      "Non-Zeros: (array([0, 0, 0, 0, 0, 0, 0, 0, 0, 0, 0, 0, 0, 0, 0, 0, 0, 0, 0, 0, 0, 0,\n",
      "       0, 0, 0, 0, 0, 0, 0, 0, 0, 0, 0, 0, 0, 0, 0, 0, 0, 0, 0, 0, 0, 0,\n",
      "       0, 0, 0], dtype=int32), array([325407, 323194, 313143, 313125, 313107, 312293, 298241, 293324,\n",
      "       287253, 283544, 283294, 269029, 255444, 252132, 250796, 240485,\n",
      "       239545, 237903, 237564, 214734, 187810, 181606, 181500, 175460,\n",
      "       162667, 162616, 152399, 144776, 144775, 140367, 140365, 118295,\n",
      "       116194, 109913, 108953, 106203,  94478,  94452,  90068,  78132,\n",
      "        76590,  66613,  38850,  37740,  34203,  31311,  23560],\n",
      "      dtype=int32))\n"
     ]
    }
   ],
   "source": [
    "test = tf.transform(X_test['comments'])\n",
    "print(\"Comments Dimensions:\",test.shape)\n",
    "print(\"Non-Zeros:\",test[0].nonzero())"
   ]
  },
  {
   "cell_type": "code",
   "execution_count": 10,
   "metadata": {
    "colab": {},
    "colab_type": "code",
    "id": "k4JDlqghx3k2"
   },
   "outputs": [],
   "source": [
    "#importing the y_test\n",
    "y_test = pd.read_csv('test_labels.csv')"
   ]
  },
  {
   "cell_type": "markdown",
   "metadata": {},
   "source": [
    "## Classical Models"
   ]
  },
  {
   "cell_type": "markdown",
   "metadata": {
    "colab_type": "text",
    "id": "F3hfwNB7SdTr"
   },
   "source": [
    "### Logistic regression LB=(0.975)"
   ]
  },
  {
   "cell_type": "markdown",
   "metadata": {
    "colab": {},
    "colab_type": "code",
    "id": "qbiGuePYwjpk"
   },
   "source": [
    "##### One-vs-the-rest (OvR) multiclass/multilabel strategy has used to fit the multilabel problem..."
   ]
  },
  {
   "cell_type": "code",
   "execution_count": null,
   "metadata": {
    "colab": {
     "base_uri": "https://localhost:8080/",
     "height": 442
    },
    "colab_type": "code",
    "id": "2UfS0s_MykTt",
    "outputId": "fae6d0e3-62d7-4061-e4fd-f2d6ed1021db"
   },
   "outputs": [
    {
     "name": "stdout",
     "output_type": "stream",
     "text": [
      "Fitting 5 folds for each of 6 candidates, totalling 30 fits\n"
     ]
    },
    {
     "name": "stderr",
     "output_type": "stream",
     "text": [
      "[Parallel(n_jobs=-1)]: Using backend LokyBackend with 2 concurrent workers.\n",
      "[Parallel(n_jobs=-1)]: Done  30 out of  30 | elapsed: 30.6min finished\n"
     ]
    },
    {
     "data": {
      "text/plain": [
       "GridSearchCV(cv=5, error_score=nan,\n",
       "             estimator=OneVsRestClassifier(estimator=LogisticRegression(C=1.0,\n",
       "                                                                        class_weight='balanced',\n",
       "                                                                        dual=False,\n",
       "                                                                        fit_intercept=True,\n",
       "                                                                        intercept_scaling=1,\n",
       "                                                                        l1_ratio=None,\n",
       "                                                                        max_iter=100,\n",
       "                                                                        multi_class='auto',\n",
       "                                                                        n_jobs=None,\n",
       "                                                                        penalty='l2',\n",
       "                                                                        random_state=None,\n",
       "                                                                        solver='sag',\n",
       "                                                                        tol=0.0001,\n",
       "                                                                        verbose=0,\n",
       "                                                                        warm_start=False),\n",
       "                                           n_jobs=None),\n",
       "             iid='deprecated', n_jobs=-1,\n",
       "             param_grid={'estimator__C': [2, 4, 6],\n",
       "                         'estimator__penalty': ['l1', 'l2']},\n",
       "             pre_dispatch='2*n_jobs', refit=True, return_train_score=False,\n",
       "             scoring='f1_macro', verbose=1)"
      ]
     },
     "execution_count": 44,
     "metadata": {
      "tags": []
     },
     "output_type": "execute_result"
    }
   ],
   "source": [
    "'''grid -search cv has been applied to search the best hyperparameter tunning....'''\n",
    "model_to_set = OneVsRestClassifier(LogisticRegression(class_weight='balanced',solver='sag'))\n",
    "score = 'f1_macro' #Calculate metrics for each label, and find their unweighted mean. This does not take label imbalance into account.\n",
    "parameters = {\n",
    "    \"estimator__C\": [2,4,6],\n",
    "    'estimator__penalty':['l1','l2'],\n",
    "\n",
    "}\n",
    "model= GridSearchCV(model_to_set, param_grid=parameters,cv=5,  #k fold-cross validation =5\n",
    "                             scoring=score,n_jobs=-1,verbose=1)\n",
    "model.fit(train,y_train)"
   ]
  },
  {
   "cell_type": "code",
   "execution_count": 11,
   "metadata": {
    "colab": {
     "base_uri": "https://localhost:8080/",
     "height": 34
    },
    "colab_type": "code",
    "id": "jTbuaiJsDcfE",
    "outputId": "40ba0bbf-1331-4c94-f223-879b2367caff"
   },
   "outputs": [],
   "source": [
    "filename = 'hyper_one.sav'\n",
    "joblib.dump(model, filename)"
   ]
  },
  {
   "cell_type": "code",
   "execution_count": 39,
   "metadata": {},
   "outputs": [],
   "source": [
    "#loaded wigth without class balanced\n",
    "loaded_model = joblib.load('hyper_one.sav')"
   ]
  },
  {
   "cell_type": "code",
   "execution_count": 14,
   "metadata": {},
   "outputs": [
    {
     "data": {
      "text/plain": [
       "OneVsRestClassifier(estimator=LogisticRegression(C=4, class_weight=None,\n",
       "                                                 dual=False, fit_intercept=True,\n",
       "                                                 intercept_scaling=1,\n",
       "                                                 l1_ratio=None, max_iter=100,\n",
       "                                                 multi_class='auto',\n",
       "                                                 n_jobs=None, penalty='l2',\n",
       "                                                 random_state=None,\n",
       "                                                 solver='lbfgs', tol=0.0001,\n",
       "                                                 verbose=0, warm_start=False),\n",
       "                    n_jobs=None)"
      ]
     },
     "execution_count": 14,
     "metadata": {},
     "output_type": "execute_result"
    }
   ],
   "source": [
    "loaded_model.best_estimator_"
   ]
  },
  {
   "cell_type": "code",
   "execution_count": null,
   "metadata": {
    "colab": {
     "base_uri": "https://localhost:8080/",
     "height": 34
    },
    "colab_type": "code",
    "id": "c7YwYcEM5jxk",
    "outputId": "0b238f29-1a94-4420-fb77-922bf3ec6a3c"
   },
   "outputs": [
    {
     "data": {
      "text/plain": [
       "{'estimator__C': 6, 'estimator__penalty': 'l2'}"
      ]
     },
     "execution_count": 46,
     "metadata": {
      "tags": []
     },
     "output_type": "execute_result"
    }
   ],
   "source": [
    "model.best_params_"
   ]
  },
  {
   "cell_type": "code",
   "execution_count": null,
   "metadata": {
    "colab": {
     "base_uri": "https://localhost:8080/",
     "height": 187
    },
    "colab_type": "code",
    "id": "9ETWJl0D57gY",
    "outputId": "c118f456-3d0b-4b8f-b756-0344a15fa2ae"
   },
   "outputs": [
    {
     "data": {
      "text/plain": [
       "OneVsRestClassifier(estimator=LogisticRegression(C=4, class_weight=None,\n",
       "                                                 dual=False, fit_intercept=True,\n",
       "                                                 intercept_scaling=1,\n",
       "                                                 l1_ratio=None, max_iter=100,\n",
       "                                                 multi_class='auto',\n",
       "                                                 n_jobs=None, penalty='l2',\n",
       "                                                 random_state=None,\n",
       "                                                 solver='lbfgs', tol=0.0001,\n",
       "                                                 verbose=0, warm_start=False),\n",
       "                    n_jobs=None)"
      ]
     },
     "execution_count": 97,
     "metadata": {
      "tags": []
     },
     "output_type": "execute_result"
    }
   ],
   "source": [
    "model.best_estimator_"
   ]
  },
  {
   "cell_type": "code",
   "execution_count": 15,
   "metadata": {},
   "outputs": [],
   "source": [
    "log_pred = loaded_model.predict_proba(test)"
   ]
  },
  {
   "cell_type": "code",
   "execution_count": 16,
   "metadata": {},
   "outputs": [],
   "source": [
    "pred_cols=['toxic','severe_toxic','obscene','threat','insult','identity_hate']\n",
    "pred_df = pd.DataFrame(log_pred,columns=pred_cols)"
   ]
  },
  {
   "cell_type": "code",
   "execution_count": 17,
   "metadata": {},
   "outputs": [],
   "source": [
    "idd =X_test['id']\n",
    "sub = pd.concat([idd,pred_df],axis=1)\n",
    "sub.to_csv('log_sub.csv',index=False)"
   ]
  },
  {
   "cell_type": "markdown",
   "metadata": {
    "colab_type": "text",
    "id": "vHB5G-EuSY3_"
   },
   "source": [
    "### MLKNN (model fails) (accuracy not tested on LB)"
   ]
  },
  {
   "cell_type": "markdown",
   "metadata": {},
   "source": [
    "##### kNN classification method adapted for multi-label classification.\n",
    "##### MLkNN builds uses k-NearestNeighbors find nearest examples to a test class and uses Bayesian inference to select assigned labels.\n",
    "<b>It takes the X,y in the scipy.sparse matrix or numpy.ndarray only.<b><br>\n",
    "<b><i>No hyperparameter tunning done in this case beacause it is costly than others to computer one vs rest.<i><b>"
   ]
  },
  {
   "cell_type": "code",
   "execution_count": null,
   "metadata": {
    "colab": {
     "base_uri": "https://localhost:8080/",
     "height": 122
    },
    "colab_type": "code",
    "id": "U5h7A7awTOD-",
    "outputId": "e880bb4d-6fdc-4f58-f1df-74d2cb5afaaf"
   },
   "outputs": [
    {
     "name": "stdout",
     "output_type": "stream",
     "text": [
      "Collecting scikit-multilearn\n",
      "\u001b[?25l  Downloading https://files.pythonhosted.org/packages/bb/1f/e6ff649c72a1cdf2c7a1d31eb21705110ce1c5d3e7e26b2cc300e1637272/scikit_multilearn-0.2.0-py3-none-any.whl (89kB)\n",
      "\u001b[K     |████████████████████████████████| 92kB 4.6MB/s eta 0:00:011\n",
      "\u001b[?25hInstalling collected packages: scikit-multilearn\n",
      "Successfully installed scikit-multilearn-0.2.0\n"
     ]
    }
   ],
   "source": [
    "!pip install scikit-multilearn"
   ]
  },
  {
   "cell_type": "code",
   "execution_count": 19,
   "metadata": {},
   "outputs": [],
   "source": [
    "y = y_train.to_numpy() #mlknn takes the x and y in the numpy.ndarray()"
   ]
  },
  {
   "cell_type": "code",
   "execution_count": null,
   "metadata": {
    "colab": {
     "base_uri": "https://localhost:8080/",
     "height": 34
    },
    "colab_type": "code",
    "id": "wDiKVzbbgKxs",
    "outputId": "56551d23-cef0-41e3-9cad-89f83647c593"
   },
   "outputs": [
    {
     "data": {
      "text/plain": [
       "MLkNN(ignore_first_neighbours=0, k=2, s=1.0)"
      ]
     },
     "execution_count": 36,
     "metadata": {
      "tags": []
     },
     "output_type": "execute_result"
    }
   ],
   "source": [
    "from skmultilearn.adapt import MLkNN\n",
    "classifier = MLkNN(k=2)# with increasing neighbours the cost to compute the train and predict the test is too high\n",
    "classifier.fit(train, y)"
   ]
  },
  {
   "cell_type": "code",
   "execution_count": null,
   "metadata": {
    "colab": {
     "base_uri": "https://localhost:8080/",
     "height": 34
    },
    "colab_type": "code",
    "id": "Sqq_QDorl76u",
    "outputId": "2a0a3e02-897a-4c82-8176-f3b5ed0782b0"
   },
   "outputs": [
    {
     "data": {
      "text/plain": [
       "['mlknn.sav']"
      ]
     },
     "execution_count": 37,
     "metadata": {
      "tags": []
     },
     "output_type": "execute_result"
    }
   ],
   "source": [
    "'''saving the model to mlknn.sav'''\n",
    "filename = 'mlknn.sav'\n",
    "joblib.dump(classifier, filename)"
   ]
  },
  {
   "cell_type": "code",
   "execution_count": 21,
   "metadata": {
    "colab": {},
    "colab_type": "code",
    "id": "LsUNt_8wXYMY"
   },
   "outputs": [],
   "source": [
    "loaded_model = joblib.load('mlknn.sav')"
   ]
  },
  {
   "cell_type": "code",
   "execution_count": null,
   "metadata": {
    "colab": {},
    "colab_type": "code",
    "id": "lIyE6urKXYJc"
   },
   "outputs": [],
   "source": [
    "pre = loaded_model.predict_proba(test).toarray() #it generates the sparse matrix"
   ]
  },
  {
   "cell_type": "code",
   "execution_count": null,
   "metadata": {
    "colab": {},
    "colab_type": "code",
    "id": "_63nxyIGXYFN"
   },
   "outputs": [],
   "source": [
    "pred_cols=['toxic','severe_toxic','obscene','threat','insult','identity_hate']\n",
    "pred_df = pd.DataFrame(pre,columns=pred_cols)"
   ]
  },
  {
   "cell_type": "code",
   "execution_count": null,
   "metadata": {
    "colab": {},
    "colab_type": "code",
    "id": "W1xrKY_einrM"
   },
   "outputs": [],
   "source": [
    "idd =X_test['id']\n",
    "sub = pd.concat([idd,pred_df],axis=1)\n",
    "sub.to_csv('mlknn_sub.csv',index=False)"
   ]
  },
  {
   "cell_type": "code",
   "execution_count": null,
   "metadata": {
    "colab": {
     "base_uri": "https://localhost:8080/",
     "height": 419
    },
    "colab_type": "code",
    "id": "10JNizm9mTR_",
    "outputId": "362d611d-bb8f-44c3-8092-a3e6cd9e5a82"
   },
   "outputs": [
    {
     "data": {
      "text/html": [
       "<div>\n",
       "<style scoped>\n",
       "    .dataframe tbody tr th:only-of-type {\n",
       "        vertical-align: middle;\n",
       "    }\n",
       "\n",
       "    .dataframe tbody tr th {\n",
       "        vertical-align: top;\n",
       "    }\n",
       "\n",
       "    .dataframe thead th {\n",
       "        text-align: right;\n",
       "    }\n",
       "</style>\n",
       "<table border=\"1\" class=\"dataframe\">\n",
       "  <thead>\n",
       "    <tr style=\"text-align: right;\">\n",
       "      <th></th>\n",
       "      <th>id</th>\n",
       "      <th>toxic</th>\n",
       "      <th>severe_toxic</th>\n",
       "      <th>obscene</th>\n",
       "      <th>threat</th>\n",
       "      <th>insult</th>\n",
       "      <th>identity_hate</th>\n",
       "    </tr>\n",
       "  </thead>\n",
       "  <tbody>\n",
       "    <tr>\n",
       "      <th>0</th>\n",
       "      <td>00001cee341fdb12</td>\n",
       "      <td>0.000119</td>\n",
       "      <td>0.000056</td>\n",
       "      <td>0.0001</td>\n",
       "      <td>0.000006</td>\n",
       "      <td>0.000075</td>\n",
       "      <td>0.000038</td>\n",
       "    </tr>\n",
       "    <tr>\n",
       "      <th>1</th>\n",
       "      <td>0000247867823ef7</td>\n",
       "      <td>0.000119</td>\n",
       "      <td>0.000056</td>\n",
       "      <td>0.0001</td>\n",
       "      <td>0.000006</td>\n",
       "      <td>0.000075</td>\n",
       "      <td>0.000038</td>\n",
       "    </tr>\n",
       "    <tr>\n",
       "      <th>2</th>\n",
       "      <td>00013b17ad220c46</td>\n",
       "      <td>0.000119</td>\n",
       "      <td>0.000056</td>\n",
       "      <td>0.0001</td>\n",
       "      <td>0.000006</td>\n",
       "      <td>0.000075</td>\n",
       "      <td>0.000038</td>\n",
       "    </tr>\n",
       "    <tr>\n",
       "      <th>3</th>\n",
       "      <td>00017563c3f7919a</td>\n",
       "      <td>0.000119</td>\n",
       "      <td>0.000056</td>\n",
       "      <td>0.0001</td>\n",
       "      <td>0.000006</td>\n",
       "      <td>0.000075</td>\n",
       "      <td>0.000038</td>\n",
       "    </tr>\n",
       "    <tr>\n",
       "      <th>4</th>\n",
       "      <td>00017695ad8997eb</td>\n",
       "      <td>0.000119</td>\n",
       "      <td>0.000056</td>\n",
       "      <td>0.0001</td>\n",
       "      <td>0.000006</td>\n",
       "      <td>0.000075</td>\n",
       "      <td>0.000038</td>\n",
       "    </tr>\n",
       "    <tr>\n",
       "      <th>...</th>\n",
       "      <td>...</td>\n",
       "      <td>...</td>\n",
       "      <td>...</td>\n",
       "      <td>...</td>\n",
       "      <td>...</td>\n",
       "      <td>...</td>\n",
       "      <td>...</td>\n",
       "    </tr>\n",
       "    <tr>\n",
       "      <th>153159</th>\n",
       "      <td>fffcd0960ee309b5</td>\n",
       "      <td>0.000119</td>\n",
       "      <td>0.000056</td>\n",
       "      <td>0.0001</td>\n",
       "      <td>0.000006</td>\n",
       "      <td>0.000075</td>\n",
       "      <td>0.000038</td>\n",
       "    </tr>\n",
       "    <tr>\n",
       "      <th>153160</th>\n",
       "      <td>fffd7a9a6eb32c16</td>\n",
       "      <td>0.000119</td>\n",
       "      <td>0.000056</td>\n",
       "      <td>0.0001</td>\n",
       "      <td>0.000006</td>\n",
       "      <td>0.000075</td>\n",
       "      <td>0.000038</td>\n",
       "    </tr>\n",
       "    <tr>\n",
       "      <th>153161</th>\n",
       "      <td>fffda9e8d6fafa9e</td>\n",
       "      <td>0.000119</td>\n",
       "      <td>0.000056</td>\n",
       "      <td>0.0001</td>\n",
       "      <td>0.000006</td>\n",
       "      <td>0.000075</td>\n",
       "      <td>0.000038</td>\n",
       "    </tr>\n",
       "    <tr>\n",
       "      <th>153162</th>\n",
       "      <td>fffe8f1340a79fc2</td>\n",
       "      <td>0.000119</td>\n",
       "      <td>0.000056</td>\n",
       "      <td>0.0001</td>\n",
       "      <td>0.000006</td>\n",
       "      <td>0.000075</td>\n",
       "      <td>0.000038</td>\n",
       "    </tr>\n",
       "    <tr>\n",
       "      <th>153163</th>\n",
       "      <td>ffffce3fb183ee80</td>\n",
       "      <td>0.000119</td>\n",
       "      <td>0.000056</td>\n",
       "      <td>0.0001</td>\n",
       "      <td>0.000006</td>\n",
       "      <td>0.000075</td>\n",
       "      <td>0.000038</td>\n",
       "    </tr>\n",
       "  </tbody>\n",
       "</table>\n",
       "<p>153164 rows × 7 columns</p>\n",
       "</div>"
      ],
      "text/plain": [
       "                      id     toxic  ...    insult  identity_hate\n",
       "0       00001cee341fdb12  0.000119  ...  0.000075       0.000038\n",
       "1       0000247867823ef7  0.000119  ...  0.000075       0.000038\n",
       "2       00013b17ad220c46  0.000119  ...  0.000075       0.000038\n",
       "3       00017563c3f7919a  0.000119  ...  0.000075       0.000038\n",
       "4       00017695ad8997eb  0.000119  ...  0.000075       0.000038\n",
       "...                  ...       ...  ...       ...            ...\n",
       "153159  fffcd0960ee309b5  0.000119  ...  0.000075       0.000038\n",
       "153160  fffd7a9a6eb32c16  0.000119  ...  0.000075       0.000038\n",
       "153161  fffda9e8d6fafa9e  0.000119  ...  0.000075       0.000038\n",
       "153162  fffe8f1340a79fc2  0.000119  ...  0.000075       0.000038\n",
       "153163  ffffce3fb183ee80  0.000119  ...  0.000075       0.000038\n",
       "\n",
       "[153164 rows x 7 columns]"
      ]
     },
     "execution_count": 48,
     "metadata": {
      "tags": []
     },
     "output_type": "execute_result"
    }
   ],
   "source": [
    "sub #accuracy of the mlknn model is too low and the time to compute is too high"
   ]
  },
  {
   "cell_type": "markdown",
   "metadata": {
    "colab_type": "text",
    "id": "UYjk-rNK7ijf"
   },
   "source": [
    "### SGD (LB=0.97543)"
   ]
  },
  {
   "cell_type": "code",
   "execution_count": 41,
   "metadata": {
    "colab": {
     "base_uri": "https://localhost:8080/",
     "height": 561
    },
    "colab_type": "code",
    "id": "e6iKBvP8-7cy",
    "outputId": "e78e15a3-8a62-487b-e7b1-0b57e66b4192"
   },
   "outputs": [
    {
     "name": "stdout",
     "output_type": "stream",
     "text": [
      "Fitting 5 folds for each of 4 candidates, totalling 20 fits\n"
     ]
    },
    {
     "name": "stderr",
     "output_type": "stream",
     "text": [
      "[Parallel(n_jobs=-1)]: Using backend LokyBackend with 2 concurrent workers.\n",
      "[Parallel(n_jobs=-1)]: Done  20 out of  20 | elapsed:  5.1min finished\n"
     ]
    },
    {
     "data": {
      "text/plain": [
       "GridSearchCV(cv=5, error_score=nan,\n",
       "             estimator=OneVsRestClassifier(estimator=SGDClassifier(alpha=0.0001,\n",
       "                                                                   average=False,\n",
       "                                                                   class_weight='balanced',\n",
       "                                                                   early_stopping=False,\n",
       "                                                                   epsilon=0.1,\n",
       "                                                                   eta0=0.0,\n",
       "                                                                   fit_intercept=True,\n",
       "                                                                   l1_ratio=0.15,\n",
       "                                                                   learning_rate='optimal',\n",
       "                                                                   loss='hinge',\n",
       "                                                                   max_iter=1000,\n",
       "                                                                   n_iter_no_change=5,\n",
       "                                                                   n_jobs=None,\n",
       "                                                                   penalty='l2',\n",
       "                                                                   power_t=0.5,\n",
       "                                                                   random_state=None,\n",
       "                                                                   shuffle=True,\n",
       "                                                                   tol=0.001,\n",
       "                                                                   validation_fraction=0.1,\n",
       "                                                                   verbose=0,\n",
       "                                                                   warm_start=False),\n",
       "                                           n_jobs=-1),\n",
       "             iid='deprecated', n_jobs=-1,\n",
       "             param_grid={'estimator__alpha': [1e-05, 0.0001],\n",
       "                         'estimator__loss': ['log'],\n",
       "                         'estimator__penalty': ['l2', 'l1']},\n",
       "             pre_dispatch='2*n_jobs', refit=True, return_train_score=False,\n",
       "             scoring='f1_weighted', verbose=1)"
      ]
     },
     "execution_count": 41,
     "metadata": {
      "tags": []
     },
     "output_type": "execute_result"
    }
   ],
   "source": [
    "params = {'estimator__alpha':[0.00001,0.0001],\n",
    "    'estimator__loss': ['log'], # logistic regression,\n",
    "    'estimator__penalty': ['l2','l1']\n",
    "}\n",
    "clf = OneVsRestClassifier(SGDClassifier(class_weight='balanced'), n_jobs=-1) #class_weight == balanced\n",
    "model = GridSearchCV(clf, param_grid=params, scoring = 'f1_weighted', cv=5, verbose=1,n_jobs=-1)\n",
    "model.fit(train, y_train)"
   ]
  },
  {
   "cell_type": "code",
   "execution_count": 22,
   "metadata": {
    "colab": {
     "base_uri": "https://localhost:8080/",
     "height": 34
    },
    "colab_type": "code",
    "id": "DnrFOUba_Rqm",
    "outputId": "fc7017d5-4e8d-4470-f651-4760f5f58c85"
   },
   "outputs": [],
   "source": [
    "filename = 'sgd.sav'\n",
    "joblib.dump(model, filename)"
   ]
  },
  {
   "cell_type": "code",
   "execution_count": 26,
   "metadata": {
    "colab": {},
    "colab_type": "code",
    "id": "KstwQzura-lM"
   },
   "outputs": [],
   "source": [
    "loaded_model = joblib.load('sgd.sav')"
   ]
  },
  {
   "cell_type": "code",
   "execution_count": 27,
   "metadata": {
    "colab": {
     "base_uri": "https://localhost:8080/",
     "height": 238
    },
    "colab_type": "code",
    "id": "JTbOxkS7bGZp",
    "outputId": "ef21c380-3d8a-4339-e6f8-aedf08d66758"
   },
   "outputs": [
    {
     "data": {
      "text/plain": [
       "array([[0.99966423, 0.92005793, 0.99976254, 0.62116948, 0.99674848,\n",
       "        0.95145158],\n",
       "       [0.05019689, 0.02369676, 0.02340761, 0.00894582, 0.05032426,\n",
       "        0.03814973],\n",
       "       [0.23344182, 0.03763918, 0.10169536, 0.01126754, 0.11937999,\n",
       "        0.05837812],\n",
       "       ...,\n",
       "       [0.02723207, 0.00893921, 0.03263597, 0.0096157 , 0.0255035 ,\n",
       "        0.01695951],\n",
       "       [0.11853469, 0.01440857, 0.10063712, 0.01543782, 0.05585723,\n",
       "        0.15905622],\n",
       "       [0.97205806, 0.02028746, 0.88900316, 0.01820378, 0.7827824 ,\n",
       "        0.07705995]])"
      ]
     },
     "execution_count": 27,
     "metadata": {},
     "output_type": "execute_result"
    }
   ],
   "source": [
    "loaded_model.predict_proba(test)"
   ]
  },
  {
   "cell_type": "code",
   "execution_count": 29,
   "metadata": {
    "colab": {
     "base_uri": "https://localhost:8080/",
     "height": 68
    },
    "colab_type": "code",
    "id": "o2IfeHOsAakx",
    "outputId": "4f440c7a-9a8c-4d27-fb55-e87b3e9769bd"
   },
   "outputs": [
    {
     "data": {
      "text/plain": [
       "{'estimator__alpha': 1e-05,\n",
       " 'estimator__loss': 'log',\n",
       " 'estimator__penalty': 'l2'}"
      ]
     },
     "execution_count": 29,
     "metadata": {},
     "output_type": "execute_result"
    }
   ],
   "source": [
    "loaded_model.best_params_"
   ]
  },
  {
   "cell_type": "code",
   "execution_count": 30,
   "metadata": {
    "colab": {},
    "colab_type": "code",
    "id": "r5oA4eQOAgRC"
   },
   "outputs": [],
   "source": [
    "test_values=loaded_model.predict_proba(test)"
   ]
  },
  {
   "cell_type": "code",
   "execution_count": 24,
   "metadata": {
    "colab": {
     "base_uri": "https://localhost:8080/",
     "height": 419
    },
    "colab_type": "code",
    "id": "a_n-R3x1Pffv",
    "outputId": "cfeaf99c-1041-4599-ac88-8f7f5a6443c3"
   },
   "outputs": [],
   "source": [
    "pred_cols=['toxic','severe_toxic','obscene','threat','insult','identity_hate']\n",
    "pred_df = pd.DataFrame(test_values,columns=pred_cols)"
   ]
  },
  {
   "cell_type": "code",
   "execution_count": null,
   "metadata": {
    "colab": {},
    "colab_type": "code",
    "id": "U0DcW-DlPfZ0"
   },
   "outputs": [],
   "source": [
    "idd =X_test['id']\n",
    "# submision=pd.read_csv('/content/drive/My Drive/sample_submission.csv')\n",
    "sub = pd.concat([idd,pred_df],axis=1)\n",
    "sub.to_csv('sgd1_sub.csv',index=False)"
   ]
  },
  {
   "cell_type": "markdown",
   "metadata": {},
   "source": [
    "### Naive Bays (LB=0.94074)"
   ]
  },
  {
   "cell_type": "markdown",
   "metadata": {},
   "source": [
    "Mutlinomial BN"
   ]
  },
  {
   "cell_type": "code",
   "execution_count": null,
   "metadata": {
    "colab": {
     "base_uri": "https://localhost:8080/",
     "height": 221
    },
    "colab_type": "code",
    "id": "-eHHrKwFVTdp",
    "outputId": "15590f94-ac3e-4b82-9444-e95fc1e69997"
   },
   "outputs": [
    {
     "name": "stdout",
     "output_type": "stream",
     "text": [
      "Fitting 3 folds for each of 3 candidates, totalling 9 fits\n"
     ]
    },
    {
     "name": "stderr",
     "output_type": "stream",
     "text": [
      "[Parallel(n_jobs=-1)]: Using backend LokyBackend with 2 concurrent workers.\n",
      "[Parallel(n_jobs=-1)]: Done   9 out of   9 | elapsed:    8.6s finished\n"
     ]
    },
    {
     "data": {
      "text/plain": [
       "GridSearchCV(cv=3, error_score=nan,\n",
       "             estimator=OneVsRestClassifier(estimator=MultinomialNB(alpha=1.0,\n",
       "                                                                   class_prior=None,\n",
       "                                                                   fit_prior=True),\n",
       "                                           n_jobs=-1),\n",
       "             iid='deprecated', n_jobs=-1,\n",
       "             param_grid={'estimator__alpha': [0.001, 0.01, 1]},\n",
       "             pre_dispatch='2*n_jobs', refit=True, return_train_score=False,\n",
       "             scoring='f1_macro', verbose=1)"
      ]
     },
     "execution_count": 23,
     "metadata": {
      "tags": []
     },
     "output_type": "execute_result"
    }
   ],
   "source": [
    "'''only alpha hyperparameter has been passed in grid search cv params'''\n",
    "params = {'estimator__alpha':[0.001,0.01,1]}\n",
    "clf = OneVsRestClassifier(MultinomialNB(), n_jobs=-1)\n",
    "model = GridSearchCV(clf, param_grid=params, scoring = 'f1_macro', cv=3, verbose=1,n_jobs=-1)\n",
    "model.fit(train, y_train)"
   ]
  },
  {
   "cell_type": "code",
   "execution_count": null,
   "metadata": {
    "colab": {
     "base_uri": "https://localhost:8080/",
     "height": 34
    },
    "colab_type": "code",
    "id": "3R8T8lv10CoM",
    "outputId": "b592c2a2-3251-423d-a0a5-ee232ef4e298"
   },
   "outputs": [
    {
     "data": {
      "text/plain": [
       "['naive.sav']"
      ]
     },
     "execution_count": 26,
     "metadata": {
      "tags": []
     },
     "output_type": "execute_result"
    }
   ],
   "source": [
    "joblib.dump(model, 'naive.sav')"
   ]
  },
  {
   "cell_type": "code",
   "execution_count": 32,
   "metadata": {
    "colab": {},
    "colab_type": "code",
    "id": "6t1yko2MPQwJ"
   },
   "outputs": [],
   "source": [
    "loaded_model = joblib.load('naive.sav')"
   ]
  },
  {
   "cell_type": "code",
   "execution_count": 33,
   "metadata": {},
   "outputs": [
    {
     "data": {
      "text/plain": [
       "{'estimator__alpha': 0.01}"
      ]
     },
     "execution_count": 33,
     "metadata": {},
     "output_type": "execute_result"
    }
   ],
   "source": [
    "loaded_model.best_params_"
   ]
  },
  {
   "cell_type": "code",
   "execution_count": 34,
   "metadata": {},
   "outputs": [
    {
     "data": {
      "text/plain": [
       "OneVsRestClassifier(estimator=MultinomialNB(alpha=0.01, class_prior=None,\n",
       "                                            fit_prior=True),\n",
       "                    n_jobs=-1)"
      ]
     },
     "execution_count": 34,
     "metadata": {},
     "output_type": "execute_result"
    }
   ],
   "source": [
    "loaded_model.best_estimator_"
   ]
  },
  {
   "cell_type": "code",
   "execution_count": 36,
   "metadata": {},
   "outputs": [],
   "source": [
    "nav_pred = loaded_model.predict_proba(test)"
   ]
  },
  {
   "cell_type": "code",
   "execution_count": 37,
   "metadata": {},
   "outputs": [],
   "source": [
    "pred_cols=['toxic','severe_toxic','obscene','threat','insult','identity_hate']\n",
    "pred_df = pd.DataFrame(nav_pred,columns=pred_cols)"
   ]
  },
  {
   "cell_type": "code",
   "execution_count": 38,
   "metadata": {},
   "outputs": [],
   "source": [
    "idd =X_test['id']\n",
    "sub = pd.concat([idd,pred_df],axis=1)\n",
    "sub.to_csv('naive_sub.csv',index=False)"
   ]
  },
  {
   "cell_type": "code",
   "execution_count": null,
   "metadata": {},
   "outputs": [],
   "source": []
  }
 ],
 "metadata": {
  "accelerator": "GPU",
  "colab": {
   "collapsed_sections": [
    "vHB5G-EuSY3_",
    "PJ0COCRX0Rsd"
   ],
   "name": "preprocessing_final.ipynb",
   "provenance": []
  },
  "kernelspec": {
   "display_name": "Python 3",
   "language": "python",
   "name": "python3"
  },
  "language_info": {
   "codemirror_mode": {
    "name": "ipython",
    "version": 3
   },
   "file_extension": ".py",
   "mimetype": "text/x-python",
   "name": "python",
   "nbconvert_exporter": "python",
   "pygments_lexer": "ipython3",
   "version": "3.6.9"
  }
 },
 "nbformat": 4,
 "nbformat_minor": 4
}
